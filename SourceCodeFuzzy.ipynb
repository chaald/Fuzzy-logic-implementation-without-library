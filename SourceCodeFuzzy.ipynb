{
  "cells": [
    {
      "cell_type": "markdown",
      "metadata": {
        "id": "lZsYCkBPXoca"
      },
      "source": [
        "# *Import Data*"
      ]
    },
    {
      "cell_type": "code",
      "execution_count": 30,
      "metadata": {
        "id": "1Ml56svWc7Iv"
      },
      "outputs": [],
      "source": [
        "import pandas as pd\n",
        "import matplotlib.pyplot as plt\n",
        "import numpy as np"
      ]
    },
    {
      "cell_type": "code",
      "execution_count": 31,
      "metadata": {
        "colab": {
          "base_uri": "https://localhost:8080/",
          "height": 279
        },
        "id": "MWBNa1cFe92c",
        "outputId": "b02ab7a0-5649-420b-ac53-085327f828da"
      },
      "outputs": [
        {
          "data": {
            "text/html": [
              "<div>\n",
              "<style scoped>\n",
              "    .dataframe tbody tr th:only-of-type {\n",
              "        vertical-align: middle;\n",
              "    }\n",
              "\n",
              "    .dataframe tbody tr th {\n",
              "        vertical-align: top;\n",
              "    }\n",
              "\n",
              "    .dataframe thead th {\n",
              "        text-align: right;\n",
              "    }\n",
              "</style>\n",
              "<table border=\"1\" class=\"dataframe\">\n",
              "  <thead>\n",
              "    <tr style=\"text-align: right;\">\n",
              "      <th></th>\n",
              "      <th>id</th>\n",
              "      <th>servis</th>\n",
              "      <th>harga</th>\n",
              "    </tr>\n",
              "  </thead>\n",
              "  <tbody>\n",
              "    <tr>\n",
              "      <th>0</th>\n",
              "      <td>1</td>\n",
              "      <td>58</td>\n",
              "      <td>7</td>\n",
              "    </tr>\n",
              "    <tr>\n",
              "      <th>1</th>\n",
              "      <td>2</td>\n",
              "      <td>54</td>\n",
              "      <td>1</td>\n",
              "    </tr>\n",
              "    <tr>\n",
              "      <th>2</th>\n",
              "      <td>3</td>\n",
              "      <td>98</td>\n",
              "      <td>2</td>\n",
              "    </tr>\n",
              "    <tr>\n",
              "      <th>3</th>\n",
              "      <td>4</td>\n",
              "      <td>52</td>\n",
              "      <td>4</td>\n",
              "    </tr>\n",
              "    <tr>\n",
              "      <th>4</th>\n",
              "      <td>5</td>\n",
              "      <td>11</td>\n",
              "      <td>4</td>\n",
              "    </tr>\n",
              "  </tbody>\n",
              "</table>\n",
              "</div>"
            ],
            "text/plain": [
              "   id  servis  harga\n",
              "0   1      58      7\n",
              "1   2      54      1\n",
              "2   3      98      2\n",
              "3   4      52      4\n",
              "4   5      11      4"
            ]
          },
          "execution_count": 31,
          "metadata": {},
          "output_type": "execute_result"
        }
      ],
      "source": [
        "data = pd.read_excel('bengkel.xlsx')\n",
        "\n",
        "data.head()"
      ]
    },
    {
      "cell_type": "markdown",
      "metadata": {
        "id": "AzPpKc3sfVw-"
      },
      "source": [
        "# *Fuzzyfication*"
      ]
    },
    {
      "cell_type": "markdown",
      "metadata": {
        "id": "tai5NLJDuRKZ"
      },
      "source": [
        "Terdapat 2 Variable Linguistik yaitu Kualitas servis dan Harga\n",
        "\n",
        "Dalam variable Kualitas servis terdapat 3 nilai linguistik yaitu Jelek, Biasa dan Bagus\n",
        "\n",
        "Dalam variable Harga terdapat 3 nilai linguistik yaitu Murah, Sedang dan Mahal"
      ]
    },
    {
      "cell_type": "markdown",
      "metadata": {
        "id": "h7Ti_qum3v-i"
      },
      "source": [
        "Fungsi Membership Kualitas Servis\n",
        " - \"Jelek\" jika value ≤ 40\n",
        " - \"Biasa\" jika 30 ≤ value ≤ 70\n",
        " - \"Bagus\" jika 60 ≤ vallue ≤ 100"
      ]
    },
    {
      "cell_type": "code",
      "execution_count": 32,
      "metadata": {
        "id": "UclhJjPqfJTZ"
      },
      "outputs": [],
      "source": [
        "# Fungsi Keanggotaan Kualitas Servis\n",
        "def fuzzificationService(value):\n",
        "    kualitasServis = {\"Jelek\": 0, \"Biasa\": 0, \"Bagus\": 0}\n",
        "    a,b,c,d,e = 30, 40, 60, 70, 100\n",
        "\n",
        "    # garis datar\n",
        "    if value <= a:\n",
        "        kualitasServis[\"Jelek\"] = 1\n",
        "    if value >= b and value <= c:\n",
        "        kualitasServis[\"Biasa\"] = 1\n",
        "    if value >= d and value <= e:\n",
        "        kualitasServis[\"Bagus\"] = 1\n",
        "\n",
        "    #garis miring\n",
        "    if value > a and value <= b:\n",
        "        kualitasServis[\"Jelek\"] = max(0, min((-(value - b) / (b - a), 1)))\n",
        "    if value > a and value < b:\n",
        "        kualitasServis[\"Biasa\"] = max(0, min((value - a) / (b - a), 1))\n",
        "    if value > c and value < d:\n",
        "        kualitasServis[\"Biasa\"] = max(0, min(-(value - d) / (d - c), 1))\n",
        "    if value > c and value < d:\n",
        "        kualitasServis[\"Bagus\"] =  max(0, min((value - c) / (d - c), 1))\n",
        "\n",
        "    return kualitasServis"
      ]
    },
    {
      "cell_type": "markdown",
      "metadata": {
        "id": "iRQl_P7v3y_F"
      },
      "source": [
        "Diagram nilai kualitas servis Menggunakan Fungsi Trapesium"
      ]
    },
    {
      "cell_type": "code",
      "execution_count": 33,
      "metadata": {
        "colab": {
          "base_uri": "https://localhost:8080/",
          "height": 449
        },
        "id": "UHI3Nl0TfXvE",
        "outputId": "8e941b62-382c-4312-b518-1ad05b2f40dd"
      },
      "outputs": [
        {
          "data": {
            "image/png": "[encoded data removed]",
            "text/plain": [
              "<Figure size 1200x600 with 1 Axes>"
            ]
          },
          "metadata": {},
          "output_type": "display_data"
        }
      ],
      "source": [
        "plt.figure(figsize=(12, 6))\n",
        "plt.title('Fungsi Keanggotaan Kualitas Servis')\n",
        "\n",
        "plt.plot(range(101),[fuzzificationService(x)[\"Jelek\"] for x in range(101)], \"r\")\n",
        "plt.plot(range(101),[fuzzificationService(x)[\"Biasa\"] for x in range(101)], \"g\")\n",
        "plt.plot(range(101),[fuzzificationService(x)[\"Bagus\"] for x in range(101)], \"b\")\n",
        "\n",
        "plt.plot(0, 0, \"r\", linewidth = 1.5, label = \"Jelek\")\n",
        "plt.plot(0, 0, \"g\", linewidth = 1.5, label = \"Biasa\")\n",
        "plt.plot(0, 0, \"b\", linewidth = 1.5, label = \"Bagus\")\n",
        "\n",
        "plt.xticks(np.arange(0, 105, 5.0))\n",
        "plt.xlabel('Nilai Kualitas Servis')\n",
        "plt.ylabel('Derajat Keanggotaan')\n",
        "plt.legend()\n",
        "plt.grid(True)\n",
        "plt.show()"
      ]
    },
    {
      "cell_type": "markdown",
      "metadata": {
        "id": "0cQw9qe636dC"
      },
      "source": [
        "Fungsi Membership Harga\n",
        " - \"Murah\" jika value ≤ 5\n",
        " - \"Sedang\" jika 3 ≤ value ≤ 9\n",
        " - \"Harga\" jika 6 ≤ vallue ≤ 10"
      ]
    },
    {
      "cell_type": "code",
      "execution_count": 34,
      "metadata": {
        "id": "TIzNqTcf3-K9"
      },
      "outputs": [],
      "source": [
        "# Fungsi Keanggotaan Harga\n",
        "def fuzzificationPrice(value):\n",
        "    harga = {\"Murah\": 0,\"Sedang\": 0,\"Mahal\": 0}\n",
        "\n",
        "    a,b,c,d,e = 3,5,6,8,10\n",
        "\n",
        "    # garis datar\n",
        "    if value <= a:\n",
        "        harga[\"Murah\"] = 1\n",
        "    if value >= b and value <= c:\n",
        "        harga[\"Sedang\"] = 1\n",
        "    if value >= d and value <= e:\n",
        "        harga[\"Mahal\"] = 1\n",
        "\n",
        "    # garis miring\n",
        "    if value > a and value < b:\n",
        "        harga[\"Murah\"] = max(0, min((-(value - b) / (b - a), 1)))\n",
        "    if value > a and value < b:\n",
        "        harga[\"Sedang\"] = max(0, min((value - a) / (b - a), 1))\n",
        "    if value > c and value < d:\n",
        "        harga[\"Sedang\"] = max(0, min(-(value - d) / (d - c), 1))\n",
        "    if value > c and value < d:\n",
        "        harga[\"Mahal\"] = max(0, min((value - c) / (d - c), 1))\n",
        "\n",
        "    return harga"
      ]
    },
    {
      "cell_type": "markdown",
      "metadata": {
        "id": "hGC348k24A4w"
      },
      "source": [
        "Diagram nilai harga menggunakan Fungsi Trapesium"
      ]
    },
    {
      "cell_type": "code",
      "execution_count": 35,
      "metadata": {
        "colab": {
          "base_uri": "https://localhost:8080/",
          "height": 266
        },
        "id": "ESVLTj5R4DB-",
        "outputId": "a3186b55-249e-4a26-f2ff-67dbbb7fbb5b"
      },
      "outputs": [
        {
          "data": {
            "image/png": "[encoded data removed]",
            "text/plain": [
              "<Figure size 1200x300 with 1 Axes>"
            ]
          },
          "metadata": {},
          "output_type": "display_data"
        }
      ],
      "source": [
        "# Diagram nilai harga\n",
        "plt.figure(figsize=(12,3))\n",
        "plt.title(\"Fungsi Membership Harga\")\n",
        "\n",
        "plt.plot(range(11),[fuzzificationPrice(x)[\"Murah\"] for x in range(11)], \"r\")\n",
        "plt.plot(range(11),[fuzzificationPrice(x)[\"Sedang\"] for x in range(11)], \"g\")\n",
        "plt.plot(range(11),[fuzzificationPrice(x)[\"Mahal\"] for x in range(11)], \"b\")\n",
        "\n",
        "plt.plot(0, 0, \"r\", linewidth = 1.5, label = \"Murah\")\n",
        "plt.plot(0, 0, \"g\", linewidth = 1.5, label = \"Sedang\")\n",
        "plt.plot(0, 0, \"b\", linewidth = 1.5, label = \"Mahal\")\n",
        "\n",
        "plt.xticks(list(range(11)))\n",
        "plt.xlabel(\"Nilai x\")\n",
        "plt.ylabel(\"Nilai Fuzzy\")\n",
        "plt.legend()\n",
        "plt.show()"
      ]
    },
    {
      "cell_type": "markdown",
      "metadata": {
        "id": "iD341RZi4Xmd"
      },
      "source": [
        "Proses Fuzzifikasi"
      ]
    },
    {
      "cell_type": "code",
      "execution_count": 36,
      "metadata": {
        "id": "YeNQDYDP4W55"
      },
      "outputs": [],
      "source": [
        "hasilFuzzifikasi = []\n",
        "\n",
        "for servis, harga in zip(data[\"servis\"], data[\"harga\"]):\n",
        "    nilaiFuzzy = {\"Kualitas Servis\": 0, \"Harga\": 0}\n",
        "    nilaiFuzzy[\"Kualitas Servis\"] = fuzzificationService(servis)\n",
        "    nilaiFuzzy[\"Harga\"] = fuzzificationPrice(harga)\n",
        "\n",
        "    hasilFuzzifikasi.append(nilaiFuzzy)"
      ]
    },
    {
      "cell_type": "code",
      "execution_count": 37,
      "metadata": {
        "colab": {
          "base_uri": "https://localhost:8080/"
        },
        "id": "IVkvU75M4dYv",
        "outputId": "636ed20e-3df1-4810-cdfc-f97e2558d417"
      },
      "outputs": [
        {
          "name": "stdout",
          "output_type": "stream",
          "text": [
            "Kualitas Servis:  58\n",
            "Harga:  7\n",
            "Nilai Kualitas Servis:  {'Jelek': 0, 'Biasa': 1, 'Bagus': 0}\n",
            "Nilai Harga:  {'Murah': 0, 'Sedang': 0.5, 'Mahal': 0.5}\n",
            "\n",
            "Kualitas Servis:  54\n",
            "Harga:  1\n",
            "Nilai Kualitas Servis:  {'Jelek': 0, 'Biasa': 1, 'Bagus': 0}\n",
            "Nilai Harga:  {'Murah': 1, 'Sedang': 0, 'Mahal': 0}\n",
            "\n",
            "Kualitas Servis:  98\n",
            "Harga:  2\n",
            "Nilai Kualitas Servis:  {'Jelek': 0, 'Biasa': 0, 'Bagus': 1}\n",
            "Nilai Harga:  {'Murah': 1, 'Sedang': 0, 'Mahal': 0}\n",
            "\n",
            "Kualitas Servis:  52\n",
            "Harga:  4\n",
            "Nilai Kualitas Servis:  {'Jelek': 0, 'Biasa': 1, 'Bagus': 0}\n",
            "Nilai Harga:  {'Murah': 0.5, 'Sedang': 0.5, 'Mahal': 0}\n",
            "\n",
            "Kualitas Servis:  11\n",
            "Harga:  4\n",
            "Nilai Kualitas Servis:  {'Jelek': 1, 'Biasa': 0, 'Bagus': 0}\n",
            "Nilai Harga:  {'Murah': 0.5, 'Sedang': 0.5, 'Mahal': 0}\n",
            "\n"
          ]
        }
      ],
      "source": [
        "# Menampilkan hasil dari proses Fuzzifikasi 5 data awal\n",
        "i = 0\n",
        "for i in range(5):\n",
        "    print(\"Kualitas Servis: \", data[\"servis\"][i])\n",
        "    print(\"Harga: \", data[\"harga\"][i])\n",
        "    print(\"Nilai Kualitas Servis: \", hasilFuzzifikasi[i][\"Kualitas Servis\"])\n",
        "    print(\"Nilai Harga: \", hasilFuzzifikasi[i][\"Harga\"], end = \"\\n\\n\")"
      ]
    },
    {
      "cell_type": "markdown",
      "metadata": {
        "id": "Tf66tFBTfdbc"
      },
      "source": [
        "#  *Inference*"
      ]
    },
    {
      "cell_type": "code",
      "execution_count": 38,
      "metadata": {
        "id": "wZ9Yuib49-8v"
      },
      "outputs": [],
      "source": [
        "fuzzySet = {\n",
        "    ('Murah', 'Jelek'): 'Tidak Direkomendasikan',\n",
        "    ('Sedang', 'Jelek'): 'Tidak Direkomendasikan',\n",
        "    ('Mahal', 'Jelek'): 'Tidak Direkomendasikan',\n",
        "    ('Murah', 'Biasa'): 'Direkomendasikan',\n",
        "    ('Sedang', 'Biasa'): 'Tidak Direkomendasikan',\n",
        "    ('Mahal', 'Biasa'): 'Tidak Direkomendasikan',\n",
        "    ('Murah', 'Bagus'): 'Sangat Direkomendasikan',\n",
        "    ('Sedang', 'Bagus'): 'Sangat Direkomendasikan',\n",
        "    ('Mahal', 'Bagus'): 'Direkomendasikan',\n",
        "}\n",
        "\n",
        "def interference(fuzzed):\n",
        "    result = {'Nilai Fuzzy': 0, 'Tidak Direkomendasikan': 0, 'Direkomendasikan': 0, 'Sangat Direkomendasikan': 0}\n",
        "\n",
        "    for servis_label in fuzzed['Kualitas Servis']:\n",
        "        for harga_label in fuzzed['Harga']:\n",
        "            result[\"Nilai Fuzzy\"] = {\"Kualitas Servis\": fuzzed[\"Kualitas Servis\"], \"Harga\": fuzzed[\"Harga\"]}\n",
        "\n",
        "            # Assuming 'Fuzzy Harga' should be 'Harga'\n",
        "            min_value = min(fuzzed['Harga'][harga_label], fuzzed['Kualitas Servis'][servis_label])\n",
        "\n",
        "            # Proses Konjungsi sesuai fuzzy set rules\n",
        "            output_label = fuzzySet[(harga_label, servis_label)]\n",
        "\n",
        "            if min_value > result[output_label]:\n",
        "                result[output_label] = min_value\n",
        "\n",
        "    return result\n"
      ]
    },
    {
      "cell_type": "code",
      "execution_count": 39,
      "metadata": {
        "colab": {
          "base_uri": "https://localhost:8080/"
        },
        "id": "oPse4pKE_XMv",
        "outputId": "26dedfcb-0ba3-4ce4-8e68-a150a45c0737"
      },
      "outputs": [
        {
          "name": "stdout",
          "output_type": "stream",
          "text": [
            "{'Tidak Direkomendasikan': 0.5, 'Direkomendasikan': 0, 'Sangat Direkomendasikan': 0}\n",
            "{'Tidak Direkomendasikan': 0, 'Direkomendasikan': 1, 'Sangat Direkomendasikan': 0}\n",
            "{'Tidak Direkomendasikan': 0, 'Direkomendasikan': 0, 'Sangat Direkomendasikan': 1}\n",
            "{'Tidak Direkomendasikan': 0.5, 'Direkomendasikan': 0.5, 'Sangat Direkomendasikan': 0}\n",
            "{'Tidak Direkomendasikan': 0.5, 'Direkomendasikan': 0, 'Sangat Direkomendasikan': 0}\n"
          ]
        }
      ],
      "source": [
        "# Proses Inference\n",
        "hasilInterference = []\n",
        "\n",
        "for fuzzed in hasilFuzzifikasi:\n",
        "    hasilInterference.append(interference(fuzzed))\n",
        "\n",
        "# Menampilkan hasil dari proses Interference 5 data awal\n",
        "i = 0\n",
        "for i in range(5):\n",
        "    print({key: value for key, value in hasilInterference[i].items() if key in [\"Tidak Direkomendasikan\", \"Direkomendasikan\", \"Sangat Direkomendasikan\"]})"
      ]
    },
    {
      "cell_type": "markdown",
      "metadata": {
        "id": "k2njVQqtfo7o"
      },
      "source": [
        "# *Deffuzzification*"
      ]
    },
    {
      "cell_type": "code",
      "execution_count": 40,
      "metadata": {
        "id": "nXRhKYkAfnJo"
      },
      "outputs": [],
      "source": [
        "def defuzzification(interference_result):\n",
        "    nilai_direkomendasikan = interference_result[\"Direkomendasikan\"]\n",
        "    nilai_tidak_direkomendasikan = interference_result[\"Tidak Direkomendasikan\"]\n",
        "    nilai_sangat_direkomendasikan = interference_result[\"Sangat Direkomendasikan\"]\n",
        "\n",
        "    total_nilai = nilai_direkomendasikan + nilai_tidak_direkomendasikan + nilai_sangat_direkomendasikan\n",
        "\n",
        "    if total_nilai != 0:\n",
        "        centroid = (nilai_tidak_direkomendasikan * 40 + nilai_direkomendasikan * 70 + nilai_sangat_direkomendasikan * 100.0) / total_nilai\n",
        "    else:\n",
        "        centroid = 0\n",
        "\n",
        "    return centroid"
      ]
    },
    {
      "cell_type": "code",
      "execution_count": 41,
      "metadata": {
        "id": "9RqC3KINC9Ip"
      },
      "outputs": [],
      "source": [
        "# Proses Deffuzification\n",
        "hasilDeffuzifikasi = []\n",
        "\n",
        "for interference_result in hasilInterference:\n",
        "    hasilDeffuzifikasi.append(defuzzification(interference_result))"
      ]
    },
    {
      "cell_type": "code",
      "execution_count": 42,
      "metadata": {
        "colab": {
          "base_uri": "https://localhost:8080/"
        },
        "id": "S-PWfn5WDhtF",
        "outputId": "f56d6bdf-f4ad-4188-f689-3bb68062840c"
      },
      "outputs": [
        {
          "name": "stdout",
          "output_type": "stream",
          "text": [
            "Hasil Deffuzifikasi: 40.0\n",
            "Hasil Deffuzifikasi: 70.0\n",
            "Hasil Deffuzifikasi: 100.0\n",
            "Hasil Deffuzifikasi: 55.0\n",
            "Hasil Deffuzifikasi: 40.0\n"
          ]
        }
      ],
      "source": [
        "# Menampilkan hasil deffuzifikasi 5 data awal\n",
        "i = 0\n",
        "for i in range(5):\n",
        "    print(\"Hasil Deffuzifikasi:\", hasilDeffuzifikasi[i])"
      ]
    },
    {
      "cell_type": "markdown",
      "metadata": {
        "id": "gH6cNYylfvc3"
      },
      "source": [
        "# *Output*"
      ]
    },
    {
      "cell_type": "code",
      "execution_count": 43,
      "metadata": {
        "colab": {
          "base_uri": "https://localhost:8080/",
          "height": 420
        },
        "id": "RTiALSFSftoI",
        "outputId": "f9a61a85-b6d4-4e0e-9091-5ffc2c417949"
      },
      "outputs": [
        {
          "data": {
            "text/html": [
              "<div>\n",
              "<style scoped>\n",
              "    .dataframe tbody tr th:only-of-type {\n",
              "        vertical-align: middle;\n",
              "    }\n",
              "\n",
              "    .dataframe tbody tr th {\n",
              "        vertical-align: top;\n",
              "    }\n",
              "\n",
              "    .dataframe thead th {\n",
              "        text-align: right;\n",
              "    }\n",
              "</style>\n",
              "<table border=\"1\" class=\"dataframe\">\n",
              "  <thead>\n",
              "    <tr style=\"text-align: right;\">\n",
              "      <th></th>\n",
              "      <th>id</th>\n",
              "      <th>servis</th>\n",
              "      <th>harga</th>\n",
              "      <th>Skor Kelayakan</th>\n",
              "    </tr>\n",
              "  </thead>\n",
              "  <tbody>\n",
              "    <tr>\n",
              "      <th>2</th>\n",
              "      <td>3</td>\n",
              "      <td>98</td>\n",
              "      <td>2</td>\n",
              "      <td>100.0</td>\n",
              "    </tr>\n",
              "    <tr>\n",
              "      <th>90</th>\n",
              "      <td>91</td>\n",
              "      <td>98</td>\n",
              "      <td>3</td>\n",
              "      <td>100.0</td>\n",
              "    </tr>\n",
              "    <tr>\n",
              "      <th>51</th>\n",
              "      <td>52</td>\n",
              "      <td>94</td>\n",
              "      <td>3</td>\n",
              "      <td>100.0</td>\n",
              "    </tr>\n",
              "    <tr>\n",
              "      <th>33</th>\n",
              "      <td>34</td>\n",
              "      <td>93</td>\n",
              "      <td>4</td>\n",
              "      <td>100.0</td>\n",
              "    </tr>\n",
              "    <tr>\n",
              "      <th>91</th>\n",
              "      <td>92</td>\n",
              "      <td>83</td>\n",
              "      <td>3</td>\n",
              "      <td>100.0</td>\n",
              "    </tr>\n",
              "  </tbody>\n",
              "</table>\n",
              "</div>"
            ],
            "text/plain": [
              "    id  servis  harga  Skor Kelayakan\n",
              "2    3      98      2           100.0\n",
              "90  91      98      3           100.0\n",
              "51  52      94      3           100.0\n",
              "33  34      93      4           100.0\n",
              "91  92      83      3           100.0"
            ]
          },
          "execution_count": 43,
          "metadata": {},
          "output_type": "execute_result"
        }
      ],
      "source": [
        "data['Skor Kelayakan'] = hasilDeffuzifikasi\n",
        "\n",
        "data = data.sort_values(by=['Skor Kelayakan', 'servis', 'harga'], ascending=[False, False, True])[:5]\n",
        "\n",
        "data[['id', 'servis', 'harga', 'Skor Kelayakan']].to_excel('peringkat.xls', index=False, header=True, engine='openpyxl')\n",
        "\n",
        "data"
      ]
    },
    {
      "cell_type": "code",
      "execution_count": null,
      "metadata": {},
      "outputs": [],
      "source": []
    }
  ],
  "metadata": {
    "colab": {
      "provenance": []
    },
    "kernelspec": {
      "display_name": "Python 3",
      "name": "python3"
    },
    "language_info": {
      "codemirror_mode": {
        "name": "ipython",
        "version": 3
      },
      "file_extension": ".py",
      "mimetype": "text/x-python",
      "name": "python",
      "nbconvert_exporter": "python",
      "pygments_lexer": "ipython3",
      "version": "3.11.5"
    }
  },
  "nbformat": 4,
  "nbformat_minor": 0
}
